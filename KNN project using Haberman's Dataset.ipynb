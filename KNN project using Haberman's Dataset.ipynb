{
 "cells": [
  {
   "cell_type": "code",
   "execution_count": 123,
   "id": "d0e7050c",
   "metadata": {},
   "outputs": [],
   "source": [
    "import numpy as np\n",
    "import pandas as pd"
   ]
  },
  {
   "cell_type": "code",
   "execution_count": 124,
   "id": "ecb9d67f",
   "metadata": {},
   "outputs": [],
   "source": [
    "#Import\n",
    "from sklearn.model_selection import train_test_split, GridSearchCV\n",
    "from sklearn.neighbors import KNeighborsClassifier\n",
    "from sklearn.metrics import accuracy_score, classification_report\n",
    "\n",
    "#Initiate the Object\n",
    "neigh= KNeighborsClassifier(n_neighbors = 3)"
   ]
  },
  {
   "cell_type": "code",
   "execution_count": 125,
   "id": "7c780407",
   "metadata": {},
   "outputs": [],
   "source": [
    "df = pd.read_csv('haberman.csv')"
   ]
  },
  {
   "cell_type": "code",
   "execution_count": 126,
   "id": "ccb801f4",
   "metadata": {},
   "outputs": [
    {
     "data": {
      "text/plain": [
       "Index(['Age', 'Year', 'Nodes', 'Survival_Status'], dtype='object')"
      ]
     },
     "execution_count": 126,
     "metadata": {},
     "output_type": "execute_result"
    }
   ],
   "source": [
    "df.columns"
   ]
  },
  {
   "cell_type": "code",
   "execution_count": 127,
   "id": "ddaf2245",
   "metadata": {},
   "outputs": [],
   "source": [
    "#Define X and Y\n",
    "x = df.drop(\"Survival_Status\" , axis=1)\n",
    "\n",
    "y= df['Survival_Status']"
   ]
  },
  {
   "cell_type": "code",
   "execution_count": 128,
   "id": "aae7bbd2",
   "metadata": {},
   "outputs": [
    {
     "data": {
      "text/plain": [
       "((244, 3), (62, 3), (244,), (62,))"
      ]
     },
     "execution_count": 128,
     "metadata": {},
     "output_type": "execute_result"
    }
   ],
   "source": [
    "from sklearn.model_selection import train_test_split\n",
    "x_train, x_test , y_train , y_test = train_test_split(x,y, test_size = 0.20 , random_state = 42)\n",
    "\n",
    "x_train.shape , x_test.shape , y_train.shape , y_test.shape"
   ]
  },
  {
   "cell_type": "code",
   "execution_count": 129,
   "id": "866f5b65",
   "metadata": {},
   "outputs": [],
   "source": [
    "from sklearn.preprocessing import StandardScaler\n",
    "scaler = StandardScaler()\n",
    "x_train = scaler.fit_transform(x_train)\n",
    "x_test = scaler.transform(x_test)"
   ]
  },
  {
   "cell_type": "code",
   "execution_count": 130,
   "id": "3f0d9b3f",
   "metadata": {},
   "outputs": [],
   "source": [
    "neigh= KNeighborsClassifier(n_neighbors = 3)"
   ]
  },
  {
   "cell_type": "code",
   "execution_count": 131,
   "id": "620aba79",
   "metadata": {},
   "outputs": [
    {
     "data": {
      "text/html": [
       "<style>#sk-container-id-12 {color: black;}#sk-container-id-12 pre{padding: 0;}#sk-container-id-12 div.sk-toggleable {background-color: white;}#sk-container-id-12 label.sk-toggleable__label {cursor: pointer;display: block;width: 100%;margin-bottom: 0;padding: 0.3em;box-sizing: border-box;text-align: center;}#sk-container-id-12 label.sk-toggleable__label-arrow:before {content: \"▸\";float: left;margin-right: 0.25em;color: #696969;}#sk-container-id-12 label.sk-toggleable__label-arrow:hover:before {color: black;}#sk-container-id-12 div.sk-estimator:hover label.sk-toggleable__label-arrow:before {color: black;}#sk-container-id-12 div.sk-toggleable__content {max-height: 0;max-width: 0;overflow: hidden;text-align: left;background-color: #f0f8ff;}#sk-container-id-12 div.sk-toggleable__content pre {margin: 0.2em;color: black;border-radius: 0.25em;background-color: #f0f8ff;}#sk-container-id-12 input.sk-toggleable__control:checked~div.sk-toggleable__content {max-height: 200px;max-width: 100%;overflow: auto;}#sk-container-id-12 input.sk-toggleable__control:checked~label.sk-toggleable__label-arrow:before {content: \"▾\";}#sk-container-id-12 div.sk-estimator input.sk-toggleable__control:checked~label.sk-toggleable__label {background-color: #d4ebff;}#sk-container-id-12 div.sk-label input.sk-toggleable__control:checked~label.sk-toggleable__label {background-color: #d4ebff;}#sk-container-id-12 input.sk-hidden--visually {border: 0;clip: rect(1px 1px 1px 1px);clip: rect(1px, 1px, 1px, 1px);height: 1px;margin: -1px;overflow: hidden;padding: 0;position: absolute;width: 1px;}#sk-container-id-12 div.sk-estimator {font-family: monospace;background-color: #f0f8ff;border: 1px dotted black;border-radius: 0.25em;box-sizing: border-box;margin-bottom: 0.5em;}#sk-container-id-12 div.sk-estimator:hover {background-color: #d4ebff;}#sk-container-id-12 div.sk-parallel-item::after {content: \"\";width: 100%;border-bottom: 1px solid gray;flex-grow: 1;}#sk-container-id-12 div.sk-label:hover label.sk-toggleable__label {background-color: #d4ebff;}#sk-container-id-12 div.sk-serial::before {content: \"\";position: absolute;border-left: 1px solid gray;box-sizing: border-box;top: 0;bottom: 0;left: 50%;z-index: 0;}#sk-container-id-12 div.sk-serial {display: flex;flex-direction: column;align-items: center;background-color: white;padding-right: 0.2em;padding-left: 0.2em;position: relative;}#sk-container-id-12 div.sk-item {position: relative;z-index: 1;}#sk-container-id-12 div.sk-parallel {display: flex;align-items: stretch;justify-content: center;background-color: white;position: relative;}#sk-container-id-12 div.sk-item::before, #sk-container-id-12 div.sk-parallel-item::before {content: \"\";position: absolute;border-left: 1px solid gray;box-sizing: border-box;top: 0;bottom: 0;left: 50%;z-index: -1;}#sk-container-id-12 div.sk-parallel-item {display: flex;flex-direction: column;z-index: 1;position: relative;background-color: white;}#sk-container-id-12 div.sk-parallel-item:first-child::after {align-self: flex-end;width: 50%;}#sk-container-id-12 div.sk-parallel-item:last-child::after {align-self: flex-start;width: 50%;}#sk-container-id-12 div.sk-parallel-item:only-child::after {width: 0;}#sk-container-id-12 div.sk-dashed-wrapped {border: 1px dashed gray;margin: 0 0.4em 0.5em 0.4em;box-sizing: border-box;padding-bottom: 0.4em;background-color: white;}#sk-container-id-12 div.sk-label label {font-family: monospace;font-weight: bold;display: inline-block;line-height: 1.2em;}#sk-container-id-12 div.sk-label-container {text-align: center;}#sk-container-id-12 div.sk-container {/* jupyter's `normalize.less` sets `[hidden] { display: none; }` but bootstrap.min.css set `[hidden] { display: none !important; }` so we also need the `!important` here to be able to override the default hidden behavior on the sphinx rendered scikit-learn.org. See: https://github.com/scikit-learn/scikit-learn/issues/21755 */display: inline-block !important;position: relative;}#sk-container-id-12 div.sk-text-repr-fallback {display: none;}</style><div id=\"sk-container-id-12\" class=\"sk-top-container\"><div class=\"sk-text-repr-fallback\"><pre>KNeighborsClassifier(n_neighbors=3)</pre><b>In a Jupyter environment, please rerun this cell to show the HTML representation or trust the notebook. <br />On GitHub, the HTML representation is unable to render, please try loading this page with nbviewer.org.</b></div><div class=\"sk-container\" hidden><div class=\"sk-item\"><div class=\"sk-estimator sk-toggleable\"><input class=\"sk-toggleable__control sk-hidden--visually\" id=\"sk-estimator-id-12\" type=\"checkbox\" checked><label for=\"sk-estimator-id-12\" class=\"sk-toggleable__label sk-toggleable__label-arrow\">KNeighborsClassifier</label><div class=\"sk-toggleable__content\"><pre>KNeighborsClassifier(n_neighbors=3)</pre></div></div></div></div></div>"
      ],
      "text/plain": [
       "KNeighborsClassifier(n_neighbors=3)"
      ]
     },
     "execution_count": 131,
     "metadata": {},
     "output_type": "execute_result"
    }
   ],
   "source": [
    "#Training\n",
    "neigh.fit(x_train, y_train)"
   ]
  },
  {
   "cell_type": "code",
   "execution_count": 132,
   "id": "87baf9c9",
   "metadata": {},
   "outputs": [],
   "source": [
    "y_prediction = neigh.predict(x_test)"
   ]
  },
  {
   "cell_type": "code",
   "execution_count": 133,
   "id": "7824ab10",
   "metadata": {},
   "outputs": [
    {
     "data": {
      "text/plain": [
       "array([1, 1, 1, 1, 1, 1, 1, 1, 2, 1, 1, 2, 1, 2, 1, 1, 1, 1, 2, 2, 1, 1,\n",
       "       1, 1, 2, 1, 1, 1, 1, 2, 1, 2, 1, 1, 1, 1, 1, 1, 1, 1, 2, 1, 2, 1,\n",
       "       1, 1, 1, 1, 1, 1, 2, 2, 1, 1, 1, 2, 1, 1, 2, 1, 1, 2], dtype=int64)"
      ]
     },
     "execution_count": 133,
     "metadata": {},
     "output_type": "execute_result"
    }
   ],
   "source": [
    "y_prediction"
   ]
  },
  {
   "cell_type": "code",
   "execution_count": 134,
   "id": "4fa9177d",
   "metadata": {},
   "outputs": [],
   "source": [
    "from sklearn.metrics import accuracy_score\n",
    "acc = accuracy_score(y_prediction, y_test)"
   ]
  },
  {
   "cell_type": "code",
   "execution_count": 135,
   "id": "4c42aefe",
   "metadata": {},
   "outputs": [
    {
     "name": "stdout",
     "output_type": "stream",
     "text": [
      "0.6612903225806451\n"
     ]
    }
   ],
   "source": [
    "print(acc)"
   ]
  },
  {
   "cell_type": "code",
   "execution_count": 136,
   "id": "acf4be14",
   "metadata": {},
   "outputs": [],
   "source": [
    "from sklearn.metrics import accuracy_score, classification_report, confusion_matrix\n",
    "conf_matrix = confusion_matrix(y_test, y_prediction)"
   ]
  },
  {
   "cell_type": "code",
   "execution_count": 137,
   "id": "17c9b207",
   "metadata": {},
   "outputs": [],
   "source": [
    "class_report = classification_report(y_test, y_prediction)"
   ]
  },
  {
   "cell_type": "code",
   "execution_count": 138,
   "id": "9b295e21",
   "metadata": {},
   "outputs": [],
   "source": [
    "y_prediction= list(y_prediction)\n",
    "y_test = list(y_test)"
   ]
  },
  {
   "cell_type": "code",
   "execution_count": 139,
   "id": "70b12da7",
   "metadata": {},
   "outputs": [
    {
     "name": "stdout",
     "output_type": "stream",
     "text": [
      "0.6612903225806451\n"
     ]
    }
   ],
   "source": [
    "print(acc)"
   ]
  },
  {
   "cell_type": "code",
   "execution_count": 140,
   "id": "af06ec29",
   "metadata": {},
   "outputs": [
    {
     "name": "stdout",
     "output_type": "stream",
     "text": [
      "1 1\n",
      "1 1\n",
      "1 1\n",
      "1 1\n",
      "1 1\n",
      "1 1\n",
      "1 1\n",
      "1 2\n",
      "2 2\n",
      "1 1\n",
      "1 1\n",
      "2 1\n",
      "1 2\n",
      "2 1\n",
      "1 1\n",
      "1 1\n",
      "1 2\n",
      "1 1\n",
      "2 1\n",
      "2 2\n",
      "1 1\n",
      "1 1\n",
      "1 1\n",
      "1 1\n",
      "2 1\n",
      "1 2\n",
      "1 1\n",
      "1 2\n",
      "1 2\n",
      "2 2\n",
      "1 1\n",
      "2 1\n",
      "1 1\n",
      "1 1\n",
      "1 1\n",
      "1 1\n",
      "1 1\n",
      "1 2\n",
      "1 2\n",
      "1 1\n",
      "2 2\n",
      "1 1\n",
      "2 1\n",
      "1 1\n",
      "1 2\n",
      "1 1\n",
      "1 1\n",
      "1 1\n",
      "1 1\n",
      "1 1\n",
      "2 2\n",
      "2 1\n",
      "1 2\n",
      "1 2\n",
      "1 1\n",
      "2 2\n",
      "1 1\n",
      "1 1\n",
      "2 1\n",
      "1 1\n",
      "1 2\n",
      "2 1\n"
     ]
    }
   ],
   "source": [
    "for i in range(len(y_test)):\n",
    "    print(y_prediction[i],y_test[i])"
   ]
  },
  {
   "cell_type": "code",
   "execution_count": 141,
   "id": "05f46a08",
   "metadata": {},
   "outputs": [
    {
     "data": {
      "text/plain": [
       "'              precision    recall  f1-score   support\\n\\n           1       0.74      0.80      0.77        44\\n           2       0.40      0.33      0.36        18\\n\\n    accuracy                           0.66        62\\n   macro avg       0.57      0.56      0.57        62\\nweighted avg       0.64      0.66      0.65        62\\n'"
      ]
     },
     "execution_count": 141,
     "metadata": {},
     "output_type": "execute_result"
    }
   ],
   "source": [
    "class_report"
   ]
  },
  {
   "cell_type": "code",
   "execution_count": 142,
   "id": "318c563a",
   "metadata": {},
   "outputs": [
    {
     "data": {
      "text/plain": [
       "array([[35,  9],\n",
       "       [12,  6]], dtype=int64)"
      ]
     },
     "execution_count": 142,
     "metadata": {},
     "output_type": "execute_result"
    }
   ],
   "source": [
    "conf_matrix"
   ]
  },
  {
   "cell_type": "code",
   "execution_count": 144,
   "id": "52972ca6",
   "metadata": {},
   "outputs": [
    {
     "name": "stdout",
     "output_type": "stream",
     "text": [
      "1 2\n",
      "2 1\n",
      "1 2\n",
      "2 1\n",
      "1 2\n",
      "2 1\n",
      "2 1\n",
      "1 2\n",
      "1 2\n",
      "1 2\n",
      "2 1\n",
      "1 2\n",
      "1 2\n",
      "2 1\n",
      "1 2\n",
      "2 1\n",
      "1 2\n",
      "1 2\n",
      "2 1\n",
      "1 2\n",
      "2 1\n"
     ]
    }
   ],
   "source": [
    "for i in range(len(y_test)):\n",
    "    if y_prediction[i] != y_test[i]:\n",
    "        print(y_prediction[i],y_test[i])"
   ]
  },
  {
   "cell_type": "code",
   "execution_count": 146,
   "id": "0bd1a6cd",
   "metadata": {},
   "outputs": [
    {
     "name": "stdout",
     "output_type": "stream",
     "text": [
      "for 1 accuracy is 0.6451612903225806\n",
      "for 2 accuracy is 0.6451612903225806\n",
      "for 3 accuracy is 0.6451612903225806\n",
      "for 4 accuracy is 0.6451612903225806\n",
      "for 5 accuracy is 0.6451612903225806\n",
      "for 6 accuracy is 0.6451612903225806\n",
      "for 7 accuracy is 0.6451612903225806\n",
      "for 8 accuracy is 0.6451612903225806\n",
      "for 9 accuracy is 0.6451612903225806\n",
      "for 10 accuracy is 0.6451612903225806\n",
      "for 11 accuracy is 0.6451612903225806\n",
      "for 12 accuracy is 0.6451612903225806\n",
      "for 13 accuracy is 0.6451612903225806\n",
      "for 14 accuracy is 0.6451612903225806\n",
      "for 15 accuracy is 0.6451612903225806\n",
      "for 16 accuracy is 0.6451612903225806\n",
      "for 17 accuracy is 0.6451612903225806\n",
      "for 18 accuracy is 0.6451612903225806\n",
      "for 19 accuracy is 0.6451612903225806\n",
      "for 20 accuracy is 0.6451612903225806\n",
      "for 21 accuracy is 0.6451612903225806\n",
      "for 22 accuracy is 0.6451612903225806\n",
      "for 23 accuracy is 0.6451612903225806\n",
      "for 24 accuracy is 0.6451612903225806\n"
     ]
    }
   ],
   "source": [
    "#import\n",
    "from sklearn.neighbors import KNeighborsClassifier\n",
    "for i in range(1,25):\n",
    "    neigh = KNeighborsClassifier(n_neighbors=1)\n",
    "    neigh.fit(x_train,y_train)\n",
    "    y_prediction = neigh.predict(x_test)\n",
    "    from sklearn.metrics import accuracy_score\n",
    "    acc = accuracy_score(y_prediction,y_test)\n",
    "    print('for', i , 'accuracy is',acc)"
   ]
  },
  {
   "cell_type": "code",
   "execution_count": null,
   "id": "03a5cb52",
   "metadata": {},
   "outputs": [],
   "source": []
  },
  {
   "cell_type": "code",
   "execution_count": null,
   "id": "c5b16055",
   "metadata": {},
   "outputs": [],
   "source": []
  },
  {
   "cell_type": "code",
   "execution_count": null,
   "id": "794607d1",
   "metadata": {},
   "outputs": [],
   "source": []
  }
 ],
 "metadata": {
  "kernelspec": {
   "display_name": "Python 3 (ipykernel)",
   "language": "python",
   "name": "python3"
  },
  "language_info": {
   "codemirror_mode": {
    "name": "ipython",
    "version": 3
   },
   "file_extension": ".py",
   "mimetype": "text/x-python",
   "name": "python",
   "nbconvert_exporter": "python",
   "pygments_lexer": "ipython3",
   "version": "3.11.5"
  }
 },
 "nbformat": 4,
 "nbformat_minor": 5
}
